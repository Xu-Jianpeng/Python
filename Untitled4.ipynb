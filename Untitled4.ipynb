{
 "cells": [
  {
   "cell_type": "code",
   "execution_count": 3,
   "metadata": {},
   "outputs": [
    {
     "name": "stdout",
     "output_type": "stream",
     "text": [
      "Collecting pyecharts\n",
      "  Downloading https://files.pythonhosted.org/packages/07/50/ab3811620082732ca9efed79ea4cd77c6f8355439ac427e4eae952bc67c8/pyecharts-1.2.1-py3-none-any.whl (144kB)\n",
      "Requirement already satisfied: jinja2 in c:\\programdata\\anaconda3\\lib\\site-packages (from pyecharts) (2.10)\n",
      "Collecting prettytable (from pyecharts)\n",
      "  Downloading https://files.pythonhosted.org/packages/ef/30/4b0746848746ed5941f052479e7c23d2b56d174b82f4fd34a25e389831f5/prettytable-0.7.2.tar.bz2\n",
      "Requirement already satisfied: MarkupSafe>=0.23 in c:\\programdata\\anaconda3\\lib\\site-packages (from jinja2->pyecharts) (1.1.1)\n",
      "Building wheels for collected packages: prettytable\n",
      "  Building wheel for prettytable (setup.py): started\n",
      "  Building wheel for prettytable (setup.py): finished with status 'done'\n",
      "  Stored in directory: C:\\Users\\Administrator\\AppData\\Local\\pip\\Cache\\wheels\\80\\34\\1c\\3967380d9676d162cb59513bd9dc862d0584e045a162095606\n",
      "Successfully built prettytable\n",
      "Installing collected packages: prettytable, pyecharts\n",
      "Successfully installed prettytable-0.7.2 pyecharts-1.2.1\n",
      "Note: you may need to restart the kernel to use updated packages.\n"
     ]
    }
   ],
   "source": [
    "pip install pyecharts"
   ]
  },
  {
   "cell_type": "code",
   "execution_count": 5,
   "metadata": {},
   "outputs": [
    {
     "name": "stdout",
     "output_type": "stream",
     "text": [
      "Collecting echarts-countries-pypkg\n",
      "  Downloading https://files.pythonhosted.org/packages/7d/ad/096213437a6f93c66c256866489cbee3217fd9081fb4a1052d053e860daa/echarts-countries-pypkg-0.1.6.tar.gz (2.0MB)\n",
      "Collecting lml>=0.0.2 (from echarts-countries-pypkg)\n",
      "  Downloading https://files.pythonhosted.org/packages/90/e5/eaa5a1c8a9adbac956daa6027789ff13e30362a03cc0d010d88bd867c73f/lml-0.0.9-py2.py3-none-any.whl\n",
      "Requirement already satisfied: pyecharts-jupyter-installer==0.0.3 in c:\\programdata\\anaconda3\\lib\\site-packages (from echarts-countries-pypkg) (0.0.3)\n",
      "Building wheels for collected packages: echarts-countries-pypkg\n",
      "  Building wheel for echarts-countries-pypkg (setup.py): started\n",
      "  Building wheel for echarts-countries-pypkg (setup.py): finished with status 'done'\n",
      "  Stored in directory: C:\\Users\\Administrator\\AppData\\Local\\pip\\Cache\\wheels\\7e\\57\\72\\b168e92b14f57541f2095ab04e65d1f0206ca392dfa846d38d\n",
      "Successfully built echarts-countries-pypkg\n",
      "Installing collected packages: lml, echarts-countries-pypkg\n",
      "Successfully installed echarts-countries-pypkg-0.1.6 lml-0.0.9\n",
      "Note: you may need to restart the kernel to use updated packages.\n"
     ]
    },
    {
     "name": "stderr",
     "output_type": "stream",
     "text": [
      "echarts-countries-pypkg 0.1.6 requires pyecharts-jupyter-installer==0.0.3, which is not installed.\n"
     ]
    }
   ],
   "source": [
    "pip install echarts-countries-pypkg "
   ]
  },
  {
   "cell_type": "code",
   "execution_count": 6,
   "metadata": {},
   "outputs": [
    {
     "name": "stdout",
     "output_type": "stream",
     "text": [
      "Collecting echarts-china-provinces-pypkg\n",
      "  Downloading https://files.pythonhosted.org/packages/31/da/ce632382d3364eefb36c29596d52f279a6adb9279bb789b3e6e1b6eab915/echarts-china-provinces-pypkg-0.0.3.tar.gz (748kB)\n",
      "Requirement already satisfied: lml>=0.0.2 in c:\\programdata\\anaconda3\\lib\\site-packages (from echarts-china-provinces-pypkg) (0.0.9)\n",
      "Requirement already satisfied: pyecharts-jupyter-installer==0.0.3 in c:\\programdata\\anaconda3\\lib\\site-packages (from echarts-china-provinces-pypkg) (0.0.3)\n",
      "Building wheels for collected packages: echarts-china-provinces-pypkg\n",
      "  Building wheel for echarts-china-provinces-pypkg (setup.py): started\n",
      "  Building wheel for echarts-china-provinces-pypkg (setup.py): finished with status 'done'\n",
      "  Stored in directory: C:\\Users\\Administrator\\AppData\\Local\\pip\\Cache\\wheels\\ec\\1b\\ee\\de250e6cb863cf667ac4eec89e1b24b411570bef0da87995a6\n",
      "Successfully built echarts-china-provinces-pypkg\n",
      "Installing collected packages: echarts-china-provinces-pypkg\n",
      "Successfully installed echarts-china-provinces-pypkg-0.0.3\n",
      "Note: you may need to restart the kernel to use updated packages.\n"
     ]
    }
   ],
   "source": [
    "pip install echarts-china-provinces-pypkg"
   ]
  },
  {
   "cell_type": "code",
   "execution_count": 9,
   "metadata": {},
   "outputs": [
    {
     "name": "stdout",
     "output_type": "stream",
     "text": [
      "Collecting echarts-china-cities-pypkg\n",
      "  Downloading https://files.pythonhosted.org/packages/46/7c/e66ecbc6ace730e1bf1d6458a540520c77333e5b7f75e365e28bea0babe1/echarts-china-cities-pypkg-0.0.9.tar.gz (4.0MB)\n",
      "Requirement already satisfied: lml>=0.0.2 in c:\\programdata\\anaconda3\\lib\\site-packages (from echarts-china-cities-pypkg) (0.0.9)\n",
      "Requirement already satisfied: pyecharts-jupyter-installer==0.0.3 in c:\\programdata\\anaconda3\\lib\\site-packages (from echarts-china-cities-pypkg) (0.0.3)\n",
      "Building wheels for collected packages: echarts-china-cities-pypkg\n",
      "  Building wheel for echarts-china-cities-pypkg (setup.py): started\n",
      "  Building wheel for echarts-china-cities-pypkg (setup.py): finished with status 'done'\n",
      "  Stored in directory: C:\\Users\\Administrator\\AppData\\Local\\pip\\Cache\\wheels\\bc\\2e\\d4\\71e9d5db5d51dab2807920335bb89030b9ebe12eeff83ce636\n",
      "Successfully built echarts-china-cities-pypkg\n",
      "Installing collected packages: echarts-china-cities-pypkg\n",
      "Successfully installed echarts-china-cities-pypkg-0.0.9\n",
      "Note: you may need to restart the kernel to use updated packages.\n"
     ]
    }
   ],
   "source": [
    "pip install echarts-china-cities-pypkg"
   ]
  },
  {
   "cell_type": "code",
   "execution_count": 11,
   "metadata": {},
   "outputs": [
    {
     "name": "stdout",
     "output_type": "stream",
     "text": [
      "Collecting echarts-china-counties-pypkg\n",
      "  Downloading https://files.pythonhosted.org/packages/46/98/4999456fced217a88f0763668e7677084fbd59d934b33026d0b634833c04/echarts-china-counties-pypkg-0.0.2.tar.gz (4.4MB)\n",
      "Requirement already satisfied: lml==0.0.2 in c:\\programdata\\anaconda3\\lib\\site-packages (from echarts-china-counties-pypkg) (0.0.2)\n",
      "Requirement already satisfied: pyecharts-jupyter-installer==0.0.3 in c:\\programdata\\anaconda3\\lib\\site-packages (from echarts-china-counties-pypkg) (0.0.3)\n",
      "Building wheels for collected packages: echarts-china-counties-pypkg\n",
      "  Building wheel for echarts-china-counties-pypkg (setup.py): started\n",
      "  Building wheel for echarts-china-counties-pypkg (setup.py): still running...\n",
      "  Building wheel for echarts-china-counties-pypkg (setup.py): finished with status 'done'\n",
      "  Stored in directory: C:\\Users\\Administrator\\AppData\\Local\\pip\\Cache\\wheels\\80\\c1\\24\\5756a0446f62bc7c3bd2c04b85457a38308dc7190fce56f1a5\n",
      "Successfully built echarts-china-counties-pypkg\n",
      "Installing collected packages: echarts-china-counties-pypkg\n",
      "Successfully installed echarts-china-counties-pypkg-0.0.2\n",
      "Note: you may need to restart the kernel to use updated packages.\n"
     ]
    }
   ],
   "source": [
    "pip install echarts-china-counties-pypkg"
   ]
  },
  {
   "cell_type": "code",
   "execution_count": 12,
   "metadata": {},
   "outputs": [
    {
     "name": "stdout",
     "output_type": "stream",
     "text": [
      "Collecting echarts-china-misc-pypkg\n",
      "  Downloading https://files.pythonhosted.org/packages/47/ac/bd741f27fcb5f21cd1dac7708ab8fe0820edfffb509d9a415620daeb42cf/echarts-china-misc-pypkg-0.0.1.tar.gz (152kB)\n",
      "Requirement already satisfied: lml==0.0.2 in c:\\programdata\\anaconda3\\lib\\site-packages (from echarts-china-misc-pypkg) (0.0.2)\n",
      "Requirement already satisfied: pyecharts-jupyter-installer==0.0.3 in c:\\programdata\\anaconda3\\lib\\site-packages (from echarts-china-misc-pypkg) (0.0.3)\n",
      "Building wheels for collected packages: echarts-china-misc-pypkg\n",
      "  Building wheel for echarts-china-misc-pypkg (setup.py): started\n",
      "  Building wheel for echarts-china-misc-pypkg (setup.py): finished with status 'done'\n",
      "  Stored in directory: C:\\Users\\Administrator\\AppData\\Local\\pip\\Cache\\wheels\\b2\\40\\a8\\0e39dc9d975434be284245d5d58c24c71671ad9bce36328e98\n",
      "Successfully built echarts-china-misc-pypkg\n",
      "Installing collected packages: echarts-china-misc-pypkg\n",
      "Successfully installed echarts-china-misc-pypkg-0.0.1\n",
      "Note: you may need to restart the kernel to use updated packages.\n"
     ]
    }
   ],
   "source": [
    "pip install echarts-china-misc-pypkg "
   ]
  },
  {
   "cell_type": "code",
   "execution_count": 10,
   "metadata": {},
   "outputs": [
    {
     "name": "stdout",
     "output_type": "stream",
     "text": [
      "Collecting echarts-united-kingdom-pypkg\n",
      "  Downloading https://files.pythonhosted.org/packages/58/54/748cb9e44a7339f578071ee13d684d1264eae82c850fb92e7524cf598b81/echarts-united-kingdom-pypkg-0.0.1.tar.gz (1.3MB)\n",
      "Collecting lml==0.0.2 (from echarts-united-kingdom-pypkg)\n",
      "  Downloading https://files.pythonhosted.org/packages/8a/6f/0eb22694df07072ea467effdbb8e313222a21788ea7914773f59fd2bb857/lml-0.0.2-py2.py3-none-any.whl\n",
      "Requirement already satisfied: pyecharts-jupyter-installer==0.0.3 in c:\\programdata\\anaconda3\\lib\\site-packages (from echarts-united-kingdom-pypkg) (0.0.3)\n",
      "Building wheels for collected packages: echarts-united-kingdom-pypkg\n",
      "  Building wheel for echarts-united-kingdom-pypkg (setup.py): started\n",
      "  Building wheel for echarts-united-kingdom-pypkg (setup.py): finished with status 'done'\n",
      "  Stored in directory: C:\\Users\\Administrator\\AppData\\Local\\pip\\Cache\\wheels\\46\\96\\48\\40e2ef27eff6ca3e1ce84cc39ab122b4b94ddcb864ce656a47\n",
      "Successfully built echarts-united-kingdom-pypkg\n",
      "Installing collected packages: lml, echarts-united-kingdom-pypkg\n",
      "  Found existing installation: lml 0.0.9\n",
      "    Uninstalling lml-0.0.9:\n",
      "      Successfully uninstalled lml-0.0.9\n",
      "Successfully installed echarts-united-kingdom-pypkg-0.0.1 lml-0.0.2\n",
      "Note: you may need to restart the kernel to use updated packages.\n"
     ]
    }
   ],
   "source": [
    "pip install echarts-united-kingdom-pypkg"
   ]
  },
  {
   "cell_type": "code",
   "execution_count": 14,
   "metadata": {},
   "outputs": [
    {
     "ename": "TypeError",
     "evalue": "__init__() got an unexpected keyword argument 'width'",
     "output_type": "error",
     "traceback": [
      "\u001b[1;31m---------------------------------------------------------------------------\u001b[0m",
      "\u001b[1;31mTypeError\u001b[0m                                 Traceback (most recent call last)",
      "\u001b[1;32m<ipython-input-14-e6b8fd52ddff>\u001b[0m in \u001b[0;36m<module>\u001b[1;34m\u001b[0m\n\u001b[0;32m      2\u001b[0m \u001b[1;33m\u001b[0m\u001b[0m\n\u001b[0;32m      3\u001b[0m \u001b[1;31m#data=[databaseT.columns,databaseT.index=='20191']\u001b[0m\u001b[1;33m\u001b[0m\u001b[1;33m\u001b[0m\u001b[1;33m\u001b[0m\u001b[0m\n\u001b[1;32m----> 4\u001b[1;33m \u001b[0mmap0\u001b[0m\u001b[1;33m=\u001b[0m\u001b[0mMap\u001b[0m\u001b[1;33m(\u001b[0m\u001b[1;34m\"各省市人口数\"\u001b[0m\u001b[1;33m,\u001b[0m \u001b[1;34m\"单位：万人\"\u001b[0m\u001b[1;33m,\u001b[0m\u001b[0mwidth\u001b[0m\u001b[1;33m=\u001b[0m\u001b[1;36m1200\u001b[0m\u001b[1;33m,\u001b[0m  \u001b[0mheight\u001b[0m\u001b[1;33m=\u001b[0m\u001b[1;36m600\u001b[0m\u001b[1;33m)\u001b[0m\u001b[1;33m\u001b[0m\u001b[1;33m\u001b[0m\u001b[0m\n\u001b[0m",
      "\u001b[1;31mTypeError\u001b[0m: __init__() got an unexpected keyword argument 'width'"
     ]
    }
   ],
   "source": [
    "from pyecharts.charts import Map\n",
    "\n",
    "#data=[databaseT.columns,databaseT.index=='20191']\n",
    "map0=Map(\"各省市人口数\", \"单位：万人\",width=1200,  height=600)\n"
   ]
  }
 ],
 "metadata": {
  "kernelspec": {
   "display_name": "Python 3",
   "language": "python",
   "name": "python3"
  },
  "language_info": {
   "codemirror_mode": {
    "name": "ipython",
    "version": 3
   },
   "file_extension": ".py",
   "mimetype": "text/x-python",
   "name": "python",
   "nbconvert_exporter": "python",
   "pygments_lexer": "ipython3",
   "version": "3.7.3"
  }
 },
 "nbformat": 4,
 "nbformat_minor": 2
}
