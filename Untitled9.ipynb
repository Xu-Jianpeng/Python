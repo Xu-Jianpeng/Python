{
 "cells": [
  {
   "cell_type": "code",
   "execution_count": 1,
   "metadata": {},
   "outputs": [],
   "source": [
    "import csv\n",
    "import pandas as pd\n",
    "import matplotlib.pyplot as plt\n",
    "import numpy as np\n",
    "%matplotlib notebook\n",
    "pd.options.display.max_rows = 35\n",
    "\n",
    "alldata1=csv.reader(open('D:/new/各省普通高中毕业生人数年度数据.csv','r'))\n",
    "#alldata = pd.read_table('C:/Users/Administrator/Desktop/Python课件与书籍/地区生产总值季度数据.csv')#,sep='::',header=None,names=pnames)\n",
    "alldata1\n",
    "alldata_panda1=pd.DataFrame(alldata1)\n",
    "alldata_panda1\n",
    "database11=pd.DataFrame(alldata_panda1.drop([0,1,2,35]))\n",
    "database1=pd.DataFrame(database11.drop([0,1],1))\n",
    "database1.index=database11[0][:32]\n",
    "database1.columns=database11.T[3][2:11]\n",
    "database1\n",
    "database1=pd.DataFrame(database1.drop(['地区']))\n",
    "database1=database1.astype('float')#强制类型转换\n",
    "databaseT1=database1.T\n",
    "databaseT1.columns=['北京','天津','河北','山西','内蒙古','辽宁','吉林','黑龙江','上海','江苏', '浙江', '安徽', '福建', '江西', '山东', '河南', '湖北', '湖南', '广东',\n",
    "                 '广西', '海南', '重庆', '四川', '贵州', '云南', '西藏', '陕西', '甘肃','青海', '宁夏', '新疆']\n",
    "databaseT1.sort_values(by='2017年',axis=1)\n",
    "alldata2=csv.reader(open('D:/new/各省高等学校招生人数（本科）年度数据.csv','r'))\n",
    "#alldata = pd.read_table('C:/Users/Administrator/Desktop/Python课件与书籍/地区生产总值季度数据.csv')#,sep='::',header=None,names=pnames)\n",
    "alldata2\n",
    "alldata_panda2=pd.DataFrame(alldata2)\n",
    "alldata_panda2\n",
    "database12=pd.DataFrame(alldata_panda2.drop([0,1,2,35]))\n",
    "database2=pd.DataFrame(database12.drop([0,1],1))\n",
    "database2.index=database12[0][:32]\n",
    "database2.columns=database12.T[3][2:11]\n",
    "database2\n",
    "database2=pd.DataFrame(database2.drop(['地区']))\n",
    "database2=database2.astype('float')#强制类型转换\n",
    "databaseT2=database2.T\n",
    "databaseT2.columns=['北京','天津','河北','山西','内蒙古','辽宁','吉林','黑龙江','上海','江苏', '浙江', '安徽', '福建', '江西', '山东', '河南', '湖北', '湖南', '广东',\n",
    "                 '广西', '海南', '重庆', '四川', '贵州', '云南', '西藏', '陕西', '甘肃','青海', '宁夏', '新疆']\n",
    "databaseT2.sort_values(by='2017年',axis=1)\n",
    "\n",
    "\n",
    "alldata3=csv.reader(open('D:/new/地区生产总值季度数据.csv','r'))\n",
    "#alldata = pd.read_table('C:/Users/Administrator/Desktop/Python课件与书籍/地区生产总值季度数据.csv')#,sep='::',header=None,names=pnames)\n",
    "alldata3\n",
    "alldata_panda3=pd.DataFrame(alldata3)\n",
    "database13=pd.DataFrame(alldata_panda3.drop([0,1,2,35]))\n",
    "database3=pd.DataFrame(database13.drop([0,1],1))\n",
    "database3.index=database13[0][:32]\n",
    "database3.columns=database13.T[3][2:19]\n",
    "database3=pd.DataFrame(database3.drop(['地区']))\n",
    "database3=database3.astype('float')#强制类型转换\n",
    "databaseT3=database3.T\n",
    "databaseT3.columns=['北京','天津','河北','山西','内蒙古','辽宁','吉林','黑龙江','上海','江苏', '浙江', '安徽', '福建', '江西', '山东', '河南', '湖北', '湖南', '广东',\n",
    "                 '广西', '海南', '重庆', '四川', '贵州', '云南', '西藏', '陕西', '甘肃','青海', '宁夏', '新疆']\n",
    "database2['2017年第二季度'] = database3['2017年第二季度']\n",
    "database1['2017年第二季度'] = database3['2017年第二季度']\n",
    "databaseT2=database2.T\n",
    "databaseT1=database1.T\n",
    "databaseT1_sorted=databaseT1.sort_values(by='2017年第二季度',axis=1)\n",
    "databaseT2_sorted=databaseT2.sort_values(by='2017年第二季度',axis=1)\n",
    "databaseT3_sorted=databaseT3.sort_values(by='2017年第二季度',axis=1)"
   ]
  },
  {
   "cell_type": "code",
   "execution_count": 15,
   "metadata": {},
   "outputs": [
    {
     "data": {
      "text/plain": [
       "[0.0199,\n",
       " -0.0242,\n",
       " 0.0074,\n",
       " -0.0039,\n",
       " 0.0186,\n",
       " 0.0026,\n",
       " 0.0084,\n",
       " -0.0146,\n",
       " 0.001,\n",
       " -0.0166,\n",
       " -0.0037,\n",
       " 0.0095,\n",
       " -0.0248,\n",
       " -0.0144,\n",
       " -0.0057,\n",
       " -0.0138,\n",
       " -0.0003,\n",
       " 0.0061,\n",
       " 0.0046,\n",
       " 0.0076,\n",
       " 0.0041,\n",
       " 0.0074,\n",
       " -0.012,\n",
       " -0.0083,\n",
       " 0.0206,\n",
       " 0.0091,\n",
       " 0.0094,\n",
       " 0.0004,\n",
       " 0.0019,\n",
       " 0.0025,\n",
       " 0.001]"
      ]
     },
     "execution_count": 15,
     "metadata": {},
     "output_type": "execute_result"
    }
   ],
   "source": [
    "attr1=list(databaseT1_sorted.columns)\n",
    "values11=databaseT1_sorted.values.tolist()[0]\n",
    "values11=values11[::-1]\n",
    "values11=list(np.array(values11)/sum(values11))\n",
    "values1=[]\n",
    "for i in values11:\n",
    "    values1.append(round(i,4))\n",
    "attr2=list(databaseT2_sorted.columns)\n",
    "values21=databaseT2_sorted.values.tolist()[0]\n",
    "values21=values21[::-1]\n",
    "values21=list(np.array(values21)/sum(values21))\n",
    "values2=[]\n",
    "for i in values21:\n",
    "    values2.append(round(i,4))\n",
    "attr3=list(databaseT3_sorted.columns)[::-1]\n",
    "values3=databaseT3_sorted.values.tolist()[0]\n",
    "values3=values3[::-1]\n",
    "values3\n",
    "values41 = list(np.array(values1)-np.array(values2))\n",
    "values4=[]\n",
    "for i in values41:\n",
    "    values4.append(round(i,4))\n",
    "values4"
   ]
  },
  {
   "cell_type": "code",
   "execution_count": 16,
   "metadata": {},
   "outputs": [
    {
     "data": {
      "text/plain": [
       "'C:\\\\Users\\\\Administrator\\\\render_关系（GDP,普高毕业生人数,本科生招生人数）.html'"
      ]
     },
     "execution_count": 16,
     "metadata": {},
     "output_type": "execute_result"
    }
   ],
   "source": [
    "import pyecharts.options as opts\n",
    "from pyecharts.charts import Line\n",
    "from pyecharts.globals import ThemeType\n",
    "\n",
    "def line_base() -> Line:\n",
    "    c = (\n",
    "        Line(init_opts=opts.InitOpts(width=4000))\n",
    "        .add_xaxis(attr3)\n",
    "        .add_yaxis(\"高中毕业人数与本科生招生人数之差\", values4)\n",
    "        #.add_yaxis(\"本科生招生人数占比\",values2)\n",
    "        .set_global_opts(title_opts=opts.TitleOpts(title=\"普通高中生毕业生人数\\n与本科生招生人数关系曲线\\n（x：GDP降序）\"),\n",
    "                         xaxis_opts=opts.AxisOpts(axislabel_opts=opts.LabelOpts(rotate=30)),\n",
    "                        )\n",
    "        \n",
    "    )\n",
    "    return c\n",
    "line1=line_base()\n",
    "line1.render('C:\\\\Users\\\\Administrator\\\\render_关系（GDP,普高毕业生人数,本科生招生人数）.html')\n",
    "\n"
   ]
  }
 ],
 "metadata": {
  "kernelspec": {
   "display_name": "Python 3",
   "language": "python",
   "name": "python3"
  },
  "language_info": {
   "codemirror_mode": {
    "name": "ipython",
    "version": 3
   },
   "file_extension": ".py",
   "mimetype": "text/x-python",
   "name": "python",
   "nbconvert_exporter": "python",
   "pygments_lexer": "ipython3",
   "version": "3.7.3"
  }
 },
 "nbformat": 4,
 "nbformat_minor": 2
}
