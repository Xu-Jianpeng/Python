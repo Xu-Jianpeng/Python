{
 "cells": [
  {
   "cell_type": "code",
   "execution_count": 1,
   "metadata": {},
   "outputs": [
    {
     "ename": "ImportError",
     "evalue": "cannot import name 'Map3D' from 'pyecharts.charts' (C:\\ProgramData\\Anaconda3\\lib\\site-packages\\pyecharts\\charts\\__init__.py)",
     "output_type": "error",
     "traceback": [
      "\u001b[1;31m---------------------------------------------------------------------------\u001b[0m",
      "\u001b[1;31mImportError\u001b[0m                               Traceback (most recent call last)",
      "\u001b[1;32m<ipython-input-1-ebacf3cdc0ce>\u001b[0m in \u001b[0;36m<module>\u001b[1;34m\u001b[0m\n\u001b[0;32m     22\u001b[0m                  '广西', '海南', '重庆', '四川', '贵州', '云南', '西藏', '陕西', '甘肃','青海', '宁夏', '新疆']\n\u001b[0;32m     23\u001b[0m \u001b[0mdatabaseT\u001b[0m\u001b[1;33m.\u001b[0m\u001b[0msort_values\u001b[0m\u001b[1;33m(\u001b[0m\u001b[0mby\u001b[0m\u001b[1;33m=\u001b[0m\u001b[1;34m'2018年'\u001b[0m\u001b[1;33m,\u001b[0m\u001b[0maxis\u001b[0m\u001b[1;33m=\u001b[0m\u001b[1;36m1\u001b[0m\u001b[1;33m)\u001b[0m\u001b[1;33m\u001b[0m\u001b[1;33m\u001b[0m\u001b[0m\n\u001b[1;32m---> 24\u001b[1;33m \u001b[1;32mfrom\u001b[0m \u001b[0mpyecharts\u001b[0m\u001b[1;33m.\u001b[0m\u001b[0mcharts\u001b[0m \u001b[1;32mimport\u001b[0m \u001b[0mMap3D\u001b[0m\u001b[1;33m\u001b[0m\u001b[1;33m\u001b[0m\u001b[0m\n\u001b[0m\u001b[0;32m     25\u001b[0m \u001b[1;32mfrom\u001b[0m \u001b[0mexample\u001b[0m\u001b[1;33m.\u001b[0m\u001b[0mcommons\u001b[0m \u001b[1;32mimport\u001b[0m \u001b[0mFaker\u001b[0m\u001b[1;33m\u001b[0m\u001b[1;33m\u001b[0m\u001b[0m\n\u001b[0;32m     26\u001b[0m \u001b[1;32mfrom\u001b[0m \u001b[0mpyecharts\u001b[0m \u001b[1;32mimport\u001b[0m \u001b[0moptions\u001b[0m \u001b[1;32mas\u001b[0m \u001b[0mopts\u001b[0m\u001b[1;33m\u001b[0m\u001b[1;33m\u001b[0m\u001b[0m\n",
      "\u001b[1;31mImportError\u001b[0m: cannot import name 'Map3D' from 'pyecharts.charts' (C:\\ProgramData\\Anaconda3\\lib\\site-packages\\pyecharts\\charts\\__init__.py)"
     ]
    }
   ],
   "source": [
    "import csv\n",
    "import pandas as pd\n",
    "import matplotlib.pyplot as plt\n",
    "import numpy as np\n",
    "%matplotlib notebook\n",
    "pd.options.display.max_rows = 35\n",
    "\n",
    "alldata=csv.reader(open('D:/new/人均GDP年度数据.csv','r'))\n",
    "#alldata = pd.read_table('C:/Users/Administrator/Desktop/Python课件与书籍/地区生产总值季度数据.csv')#,sep='::',header=None,names=pnames)\n",
    "alldata\n",
    "alldata_panda=pd.DataFrame(alldata)\n",
    "alldata_panda\n",
    "database1=pd.DataFrame(alldata_panda.drop([0,1,2,35]))\n",
    "database=pd.DataFrame(database1.drop([0],1))\n",
    "database.index=database1[0][:32]\n",
    "database.columns=database1.T[3][1:11]\n",
    "database\n",
    "database=pd.DataFrame(database.drop(['地区']))\n",
    "database=database.astype('float')#强制类型转换\n",
    "databaseT=database.T\n",
    "databaseT.columns=['北京','天津','河北','山西','内蒙古','辽宁','吉林','黑龙江','上海','江苏', '浙江', '安徽', '福建', '江西', '山东', '河南', '湖北', '湖南', '广东',\n",
    "                 '广西', '海南', '重庆', '四川', '贵州', '云南', '西藏', '陕西', '甘肃','青海', '宁夏', '新疆']\n",
    "databaseT.sort_values(by='2018年',axis=1)\n",
    "from pyecharts.charts import Map3D\n",
    "from example.commons import Faker\n",
    "from pyecharts import options as opts\n",
    "from pyecharts.globals import ThemeType\n",
    "\n",
    "def map_visualmap() -> Map3D:\n",
    "    c = (\n",
    "        Map3D().add_schema()\n",
    "        .add(\"人均GDP（元）\", [list(z) for z in zip(attr,values)], \"china\")\n",
    "        .set_global_opts(\n",
    "            title_opts=opts.TitleOpts(title=\"人均GDP2018年度数据（元）\"),\n",
    "            visualmap_opts=opts.VisualMapOpts(min_=31336,max_=140211)#, is_piecewise=True),\n",
    "        )\n",
    "    )\n",
    "    return c\n",
    "attr=list(databaseT.columns)\n",
    "values=databaseT.values.tolist()[0]\n",
    "print(attr)\n",
    "print(values)\n",
    "#list(z) for z in zip(attr,values)\n",
    "z = list(zip(attr,values))\n",
    "print(z)\n",
    "map1=map_visualmap()\n",
    "map1.render('C:\\\\Users\\\\Administrator\\\\render_GDP_avg_Map3D.html')"
   ]
  }
 ],
 "metadata": {
  "kernelspec": {
   "display_name": "Python 3",
   "language": "python",
   "name": "python3"
  },
  "language_info": {
   "codemirror_mode": {
    "name": "ipython",
    "version": 3
   },
   "file_extension": ".py",
   "mimetype": "text/x-python",
   "name": "python",
   "nbconvert_exporter": "python",
   "pygments_lexer": "ipython3",
   "version": "3.7.3"
  }
 },
 "nbformat": 4,
 "nbformat_minor": 2
}
